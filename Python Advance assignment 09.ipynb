{
 "cells": [
  {
   "cell_type": "raw",
   "id": "cc9eb5e7",
   "metadata": {},
   "source": [
    "Q1. In Python 3.X, what are the names and functions of string object types?"
   ]
  },
  {
   "cell_type": "raw",
   "id": "a6d02bae",
   "metadata": {},
   "source": [
    "ans: There are many string functions some of them are mentioned below isascii(),islower(),isdigit(),upper(),lower(),istrip().rstrip()\n",
    "\n",
    "\n",
    "bascically after defining the string we can use(dot)and them tab in jupyter notebook or ctr+space in colab to access these we dont need to remember them."
   ]
  },
  {
   "cell_type": "code",
   "execution_count": null,
   "id": "1ae20c5f",
   "metadata": {},
   "outputs": [],
   "source": []
  },
  {
   "cell_type": "code",
   "execution_count": null,
   "id": "2d13f7df",
   "metadata": {},
   "outputs": [],
   "source": []
  },
  {
   "cell_type": "raw",
   "id": "05e7a671",
   "metadata": {},
   "source": [
    "Q2. How do the string forms in Python 3.X vary in terms of operations?"
   ]
  },
  {
   "cell_type": "raw",
   "id": "6474336f",
   "metadata": {},
   "source": [
    "ans: \n",
    "*'d' for integers\n",
    "*'f' for floating-point numbers\n",
    "*'b' for binary number\n",
    "*'x' for octal hexadecimal numbers\n",
    "*'s' for string\n",
    "*'e' for floating-point in an exponent format"
   ]
  },
  {
   "cell_type": "code",
   "execution_count": null,
   "id": "07f540b5",
   "metadata": {},
   "outputs": [],
   "source": []
  },
  {
   "cell_type": "code",
   "execution_count": null,
   "id": "9cfaa0a0",
   "metadata": {},
   "outputs": [],
   "source": []
  },
  {
   "cell_type": "raw",
   "id": "e3dbefdf",
   "metadata": {},
   "source": [
    "Q3. In 3.X, how do you put non-ASCII Unicode characters in a string?"
   ]
  },
  {
   "cell_type": "raw",
   "id": "24d9cb84",
   "metadata": {},
   "source": [
    "ans: In order to use non-ASCII characters, python requires  xplicit encoding and decoading of strings into unicode we can check using the ascil value using ord()."
   ]
  },
  {
   "cell_type": "code",
   "execution_count": 2,
   "id": "56c29807",
   "metadata": {},
   "outputs": [
    {
     "data": {
      "text/plain": [
       "98"
      ]
     },
     "execution_count": 2,
     "metadata": {},
     "output_type": "execute_result"
    }
   ],
   "source": [
    "ord(\"b\")"
   ]
  },
  {
   "cell_type": "raw",
   "id": "c80ad65f",
   "metadata": {},
   "source": [
    "ord('!')"
   ]
  },
  {
   "cell_type": "code",
   "execution_count": null,
   "id": "6cc552ba",
   "metadata": {},
   "outputs": [],
   "source": []
  },
  {
   "cell_type": "code",
   "execution_count": null,
   "id": "66da7717",
   "metadata": {},
   "outputs": [],
   "source": []
  },
  {
   "cell_type": "raw",
   "id": "016a36bd",
   "metadata": {},
   "source": [
    "Q4. In Python 3.X, what are the key differences between text-mode and binary-mode files?"
   ]
  },
  {
   "cell_type": "raw",
   "id": "56eaaf30",
   "metadata": {},
   "source": [
    "ans: The major differnce between these two is that a text file contains textual information in the form of alphabets,digit and sepecial charactetrs or symbols. on the other hand, a binary file contain bytes or a compiled version of a text file."
   ]
  },
  {
   "cell_type": "code",
   "execution_count": null,
   "id": "199e8f23",
   "metadata": {},
   "outputs": [],
   "source": []
  },
  {
   "cell_type": "code",
   "execution_count": null,
   "id": "7227dca6",
   "metadata": {},
   "outputs": [],
   "source": []
  },
  {
   "cell_type": "raw",
   "id": "3ae9ebfb",
   "metadata": {},
   "source": [
    "Q5. How can you interpret a Unicode text file containing text encoded in a different encoding than\n",
    "your platform&#39;s default?"
   ]
  },
  {
   "cell_type": "raw",
   "id": "84f6453e",
   "metadata": {},
   "source": [
    "ans: we can do it by hit and trieal trying differnt types of ending like utf-8,utf-16 etc."
   ]
  },
  {
   "cell_type": "code",
   "execution_count": null,
   "id": "2806c77d",
   "metadata": {},
   "outputs": [],
   "source": []
  },
  {
   "cell_type": "code",
   "execution_count": null,
   "id": "840f1896",
   "metadata": {},
   "outputs": [],
   "source": []
  },
  {
   "cell_type": "raw",
   "id": "f320a2c4",
   "metadata": {},
   "source": [
    "Q6. What is the best way to make a Unicode text file in a particular encoding format?"
   ]
  },
  {
   "cell_type": "code",
   "execution_count": 1,
   "id": "2e0650ad",
   "metadata": {},
   "outputs": [],
   "source": [
    "with open (\"file.txt\",\"w\",encoding=\"utf-8\")as f:\n",
    "    f.write(\"hello,world!\")"
   ]
  },
  {
   "cell_type": "code",
   "execution_count": null,
   "id": "036ee223",
   "metadata": {},
   "outputs": [],
   "source": []
  },
  {
   "cell_type": "code",
   "execution_count": null,
   "id": "941e8cb0",
   "metadata": {},
   "outputs": [],
   "source": []
  },
  {
   "cell_type": "raw",
   "id": "60a959f9",
   "metadata": {},
   "source": [
    "Q7. What qualifies ASCII text as a form of Unicode text?"
   ]
  },
  {
   "cell_type": "raw",
   "id": "0f6f9f90",
   "metadata": {},
   "source": [
    "ans: The first 128 unicode code points represent the ASCII characters, which means that any ASCII text is also a UTF-8 text.As long as it contains no code points in the reserved range u+D800-U+DFFF, a ucs-2 text is vaild UTF-16 text.\n",
    "\n",
    "Encoding fotrmats:UTF-8,UTF-16;GB18030;\n",
    "Standard: Unicode standard\n",
    "Alias(es):Universalcoded character set (UCS)"
   ]
  },
  {
   "cell_type": "code",
   "execution_count": null,
   "id": "a780ecd8",
   "metadata": {},
   "outputs": [],
   "source": []
  },
  {
   "cell_type": "code",
   "execution_count": null,
   "id": "9a79be64",
   "metadata": {},
   "outputs": [],
   "source": []
  },
  {
   "cell_type": "raw",
   "id": "2cec32cf",
   "metadata": {},
   "source": [
    "Q8. How much of an effect does the change in string types in Python 3.X have on your code?"
   ]
  },
  {
   "cell_type": "code",
   "execution_count": null,
   "id": "1c297a16",
   "metadata": {},
   "outputs": [],
   "source": []
  },
  {
   "cell_type": "code",
   "execution_count": null,
   "id": "7a34f9af",
   "metadata": {},
   "outputs": [],
   "source": []
  },
  {
   "cell_type": "code",
   "execution_count": null,
   "id": "8e295e4f",
   "metadata": {},
   "outputs": [],
   "source": []
  },
  {
   "cell_type": "code",
   "execution_count": null,
   "id": "ec20e72d",
   "metadata": {},
   "outputs": [],
   "source": []
  }
 ],
 "metadata": {
  "kernelspec": {
   "display_name": "Python 3",
   "language": "python",
   "name": "python3"
  },
  "language_info": {
   "codemirror_mode": {
    "name": "ipython",
    "version": 3
   },
   "file_extension": ".py",
   "mimetype": "text/x-python",
   "name": "python",
   "nbconvert_exporter": "python",
   "pygments_lexer": "ipython3",
   "version": "3.8.8"
  }
 },
 "nbformat": 4,
 "nbformat_minor": 5
}
